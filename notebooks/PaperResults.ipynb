{
 "cells": [
  {
   "cell_type": "code",
   "execution_count": 1,
   "metadata": {
    "id": "DUTLmKOaMnH-"
   },
   "outputs": [],
   "source": [
    "import sys\n",
    "\n",
    "import pickle\n",
    "import numpy as np\n",
    "import pandas as pd\n",
    "import matplotlib.pyplot as plt\n",
    "\n",
    "\n",
    "plt.style.reload_library()\n",
    "plt.style.use(['science'])"
   ]
  },
  {
   "cell_type": "markdown",
   "metadata": {
    "id": "rp4HR8Wab2kH"
   },
   "source": [
    "# Data Processing Functions"
   ]
  },
  {
   "cell_type": "code",
   "execution_count": 2,
   "metadata": {
    "id": "2s6tdVnRbs22"
   },
   "outputs": [],
   "source": [
    "def compute_gaps(df):    \n",
    "    \"\"\" Computes optimality gaps between methods. Assumes the problem are in \n",
    "    the minimization form. Hence the extensive form would have a better objective\n",
    "    as compared to neural network based methods.\n",
    "\n",
    "    A positive gap would indicate that EF is better than method.\n",
    "\n",
    "    A negative gap would indicate that EF is worse than method.\n",
    "\n",
    "    Note: PP is in maximization form. So the interpretation should be reversed.\n",
    "    \n",
    "    \"\"\"\n",
    "    for index in df.index:\n",
    "\n",
    "        for test_set in df['downstream'][index].keys():\n",
    "\n",
    "            ef_obj = df['downstream'][index][test_set]['ef_obj']\n",
    "            nn_p_obj = df['downstream'][index][test_set]['nn_p_true_obj']\n",
    "            nn_e_obj = df['downstream'][index][test_set]['nn_e_true_obj']\n",
    "\n",
    "            if \"pp\" in index:\n",
    "                df['downstream'][index][test_set]['ef-nn_p_gap'] = - 100 * (nn_p_obj - ef_obj) / np.abs(ef_obj)\n",
    "                df['downstream'][index][test_set]['ef-nn_e_gap'] = - 100 * (nn_e_obj - ef_obj) / np.abs(ef_obj)\n",
    "                df['downstream'][index][test_set]['nn_p-nn_e_gap'] = - 100 * (nn_e_obj - nn_p_obj) / np.abs(nn_p_obj)\n",
    "            else:\n",
    "                df['downstream'][index][test_set]['ef-nn_p_gap'] = 100 * (nn_p_obj - ef_obj) / np.abs(ef_obj)\n",
    "                df['downstream'][index][test_set]['ef-nn_e_gap'] = 100 * (nn_e_obj - ef_obj) / np.abs(ef_obj)\n",
    "                df['downstream'][index][test_set]['nn_p-nn_e_gap'] = 100 * (nn_e_obj - nn_p_obj) / np.abs(nn_p_obj)\n",
    "\n",
    "    return df"
   ]
  },
  {
   "cell_type": "code",
   "execution_count": 3,
   "metadata": {
    "id": "qbPY3WpBsaLA"
   },
   "outputs": [],
   "source": [
    "def get_ef_times_to_best(df, tol=1e-4):    \n",
    "    \"\"\" Gets time that EF takes to reach NN-{P,E} as as well\n",
    "        as an indicator stating if NN-{P,E} solution quality is better than EF.\n",
    "    \"\"\"\n",
    "    for index in df.index:\n",
    "        for test_set in df['downstream'][index].keys():\n",
    "\n",
    "            nn_p_obj = df['downstream'][index][test_set]['nn_p_true_obj']\n",
    "            nn_e_obj = df['downstream'][index][test_set]['nn_e_true_obj']\n",
    "\n",
    "            primal_bounds = df.at[index, 'downstream'][test_set][\"ef_solving_results\"][\"primal\"]\n",
    "            times = df.at[index, 'downstream'][test_set][\"ef_solving_results\"][\"time\"]\n",
    "\n",
    "            if \"pp\" in index:\n",
    "                nn_p_idx = [n for n,i in enumerate(primal_bounds) if i >= nn_p_obj  - tol]\n",
    "                nn_e_idx = [n for n,i in enumerate(primal_bounds) if i >= nn_e_obj  - tol]\n",
    "            else:\n",
    "                nn_p_idx = [n for n,i in enumerate(primal_bounds) if i <= nn_p_obj  + tol]\n",
    "                nn_e_idx = [n for n,i in enumerate(primal_bounds) if i <= nn_e_obj  + tol]\n",
    "\n",
    "            # record time and indicator for NN-P\n",
    "            if len(nn_p_idx) > 0:\n",
    "                df['downstream'][index][test_set]['ef_time_to_nn_e'] = times[nn_p_idx[0]]\n",
    "                df['downstream'][index][test_set]['nn_e_better'] = 0\n",
    "            else:\n",
    "                df['downstream'][index][test_set]['ef_time_to_nn_e'] = np.nan\n",
    "                df['downstream'][index][test_set]['nn_e_better'] = 1\n",
    "\n",
    "            # record time and indicator for NN-E\n",
    "            if len(nn_e_idx) > 0:\n",
    "                df['downstream'][index][test_set]['ef_time_to_nn_p'] = times[nn_e_idx[0]]\n",
    "                df['downstream'][index][test_set]['nn_p_better'] = 0\n",
    "\n",
    "            else:\n",
    "                df['downstream'][index][test_set]['ef_time_to_nn_p'] = np.nan\n",
    "                df['downstream'][index][test_set]['nn_p_better'] = 1\n",
    "\n",
    "            # case if NN-P is nan\n",
    "            if np.isnan(nn_p_obj):\n",
    "                df['downstream'][index][test_set]['ef_time_to_nn_e'] = 0\n",
    "                df['downstream'][index][test_set]['nn_e_better'] = 0\n",
    "            \n",
    "            # case if NN-E is nan\n",
    "            if np.isnan(nn_e_obj):\n",
    "                df['downstream'][index][test_set]['ef_time_to_nn_p'] = 0\n",
    "                df['downstream'][index][test_set]['nn_p_better'] = 0\n",
    "\n",
    "    return df"
   ]
  },
  {
   "cell_type": "code",
   "execution_count": 4,
   "metadata": {
    "id": "LYxmb53Eb_2m"
   },
   "outputs": [],
   "source": [
    "def get_dataframe_for_problem(df_, problem):\n",
    "    \"\"\" Filters columns to be of a specific problem. \"\"\"\n",
    "    df = df_.copy()\n",
    "    rows_to_drop = list(filter(lambda x: problem not in x, df.index))\n",
    "    df = df.drop(rows_to_drop, axis=0)\n",
    "    return df"
   ]
  },
  {
   "cell_type": "code",
   "execution_count": 5,
   "metadata": {
    "id": "Rwh9QcJ_cB-F"
   },
   "outputs": [],
   "source": [
    "def get_ml_data_df(df_, ml_data_metrics, problem):\n",
    "    \"\"\" Gets data for ML training/data generation. \"\"\"\n",
    "    df = df_.copy()\n",
    "    \n",
    "    df = get_dataframe_for_problem(df, problem)\n",
    "\n",
    "    # get only one row per problem\n",
    "    rows = list(df.index)\n",
    "    rows_new = list(map(lambda x: \"_\".join(x.split(\"_\")[:-1]), df.index))\n",
    "    row_dict = {rows[i]: rows_new[i] for i in range(len(rows_new))}\n",
    "\n",
    "    df = df.rename(index=row_dict)#.drop_duplicates()\n",
    "    df = df[ml_data_metrics]\n",
    "    df = df.drop_duplicates()\n",
    "    \n",
    "    df['nn_e_total_time'] = df['nn_e_training_time'] + df['nn_e_data_generation_time']\n",
    "    df['nn_p_total_time'] = df['nn_p_training_time'] + df['nn_p_data_generation_time']\n",
    "\n",
    "    return df"
   ]
  },
  {
   "cell_type": "code",
   "execution_count": 6,
   "metadata": {
    "id": "Qz68US4AcDzk"
   },
   "outputs": [],
   "source": [
    "def get_agg_df(df, downstream_metrics, problem):\n",
    "    \"\"\" Gets aggregate stats for each scneario setting. \"\"\"\n",
    "    agg_df = result_df.copy()\n",
    "    agg_df[downstream_metrics] = np.nan    \n",
    "    agg_df = get_dataframe_for_problem(agg_df, problem)\n",
    "\n",
    "    for index in agg_df.index:\n",
    "        temp_df = pd.DataFrame(df['downstream'][index]).T\n",
    "        agg_stat_df = temp_df[downstream_metrics]\n",
    "        agg_stats = agg_stat_df.mean()\n",
    "\n",
    "        for i, v in agg_stats.items():\n",
    "            # sum for nn_better\n",
    "            if i == \"nn_p_better\" or i == \"nn_e_better\":\n",
    "                agg_df.at[index, i] = agg_stat_df[i].sum()\n",
    "\n",
    "            # nanmean for time to\n",
    "            elif i == \"ef_time_to_nn_p\" or i == \"ef_time_to_nn_e\":\n",
    "                ef_time_to = agg_stat_df[i]\n",
    "                if ef_time_to.isnull().all():\n",
    "                    agg_df.at[index, i] = np.nan \n",
    "                else:\n",
    "                    agg_df.at[index, i] = ef_time_to.mean()\n",
    "\n",
    "            # other columns\n",
    "            else:\n",
    "                agg_df.at[index, i] = v\n",
    "\n",
    "    # cast to string with brackets around for displaying in table.\n",
    "    if \"nn_p_better\" in agg_df.columns:\n",
    "        agg_df = agg_df.astype({\"nn_p_better\" : int})\n",
    "        agg_df = agg_df.astype({\"nn_p_better\" : str})\n",
    "        agg_df[\"nn_p_better\"] = \"(\" + agg_df[\"nn_p_better\"] + \")\"\n",
    "\n",
    "    if \"nn_e_better\" in agg_df.columns:\n",
    "        agg_df = agg_df.astype({\"nn_e_better\" : int})\n",
    "        agg_df = agg_df.astype({\"nn_e_better\" : str})\n",
    "        agg_df[\"nn_e_better\"] = \"(\" + agg_df[\"nn_e_better\"] + \")\"\n",
    "\n",
    "    return agg_df[downstream_metrics]"
   ]
  },
  {
   "cell_type": "code",
   "execution_count": 7,
   "metadata": {
    "id": "cZWIld_t3BFy"
   },
   "outputs": [],
   "source": [
    "def get_siplib_df(df, downstream_metrics):\n",
    "    \"\"\" Gets SIPLIB SSLP results. \"\"\"\n",
    "    rows = df.index\n",
    "    rows = list(filter(lambda x: 'sslp' in x, rows))\n",
    "    \n",
    "    siplib_df = pd.DataFrame(columns=downstream_metrics, index=rows)\n",
    "\n",
    "    for index in rows:\n",
    "        siplib_stats = pd.DataFrame(df['downstream'][index]).T[downstream_metrics].loc['siplib']        \n",
    "        siplib_df.at[index] = siplib_stats\n",
    "\n",
    "    return siplib_df[downstream_metrics]"
   ]
  },
  {
   "cell_type": "code",
   "execution_count": 8,
   "metadata": {
    "id": "jp5I-e9RcHJb"
   },
   "outputs": [],
   "source": [
    "def get_combined_df(df, downstream_metrics, problem):\n",
    "    \"\"\" Gets aggregate stats for each scneario setting. \"\"\"   \n",
    "    # get rows\n",
    "    rows = df.index\n",
    "    rows = list(filter(lambda x: problem in x, rows))\n",
    "\n",
    "    # get combined rows\n",
    "    combined_rows = []\n",
    "    for index in rows:\n",
    "        for test_set in result_df['downstream'][index].keys():\n",
    "            combined_rows.append(f\"{index}_{test_set}\")\n",
    "           \n",
    "    # fill df\n",
    "    combined_df = pd.DataFrame(columns=downstream_metrics, index=combined_rows)\n",
    "    for index in rows:\n",
    "        index_df = pd.DataFrame(df['downstream'][index]).T[downstream_metrics]\n",
    "        for test_set in result_df['downstream'][index].keys():\n",
    "            combined_df.loc[f\"{index}_{test_set}\"] = index_df.loc[test_set]\n",
    "            \n",
    "    return combined_df"
   ]
  },
  {
   "cell_type": "markdown",
   "metadata": {
    "id": "rJDE2dYfcPNk"
   },
   "source": [
    "### Load Data"
   ]
  },
  {
   "cell_type": "code",
   "execution_count": 10,
   "metadata": {},
   "outputs": [],
   "source": [
    "data_dir = '../data/'\n",
    "data_fp = data_dir + '/results.pkl'"
   ]
  },
  {
   "cell_type": "code",
   "execution_count": 11,
   "metadata": {
    "colab": {
     "base_uri": "https://localhost:8080/"
    },
    "id": "pYWg4JIVNOSR",
    "outputId": "4ef4e51f-24d3-4bff-d26a-b4ed5ceb6751"
   },
   "outputs": [
    {
     "name": "stdout",
     "output_type": "stream",
     "text": [
      "Shape:  (53, 13)\n"
     ]
    }
   ],
   "source": [
    "# Read results\n",
    "with open(data_fp, 'rb') as p:\n",
    "    results = pickle.load(p)\n",
    "    \n",
    "result_df = pd.DataFrame(results).T\n",
    "print('Shape: ', result_df.shape)"
   ]
  },
  {
   "cell_type": "code",
   "execution_count": 12,
   "metadata": {
    "colab": {
     "base_uri": "https://localhost:8080/"
    },
    "id": "vsBNLsRRU5kW",
    "outputId": "72f2a766-0916-4215-9de7-5e416c84ed3d"
   },
   "outputs": [],
   "source": [
    "result_df = compute_gaps(result_df)"
   ]
  },
  {
   "cell_type": "code",
   "execution_count": 13,
   "metadata": {
    "id": "17x_2OZeUpar"
   },
   "outputs": [],
   "source": [
    "result_df = get_ef_times_to_best(result_df)"
   ]
  },
  {
   "cell_type": "markdown",
   "metadata": {},
   "source": [
    "# Main Paper Results"
   ]
  },
  {
   "cell_type": "markdown",
   "metadata": {
    "id": "AGGpA1c4ccz8"
   },
   "source": [
    "## Table 2: Data Generation and Training Times"
   ]
  },
  {
   "cell_type": "code",
   "execution_count": 14,
   "metadata": {
    "id": "lsR3HQXEj5l1"
   },
   "outputs": [],
   "source": [
    "def latex_offline_times(df_):\n",
    "    \"\"\" Generate Latex table for training stats.  \"\"\"\n",
    "\n",
    "    df = df_.copy()\n",
    "\n",
    "    df = df.drop(['nn_p_n_samples', 'nn_p_time_per_sample'], axis=1)\n",
    "    df = df.drop(['nn_e_n_samples', 'nn_e_time_per_sample'], axis=1)\n",
    "    df = df.drop(['lr_training_time'], axis=1)\n",
    "\n",
    "    df.rename(columns={\n",
    "        'nn_p_data_generation_time' : 'NN-P',\n",
    "        'nn_e_data_generation_time' : 'NN-E',\n",
    "        'nn_p_training_time' : 'NN-P\\ ',\n",
    "        'nn_e_training_time' : 'NN-E\\ ',\n",
    "        'nn_p_total_time' : 'NN-P\\ \\ ',\n",
    "        'nn_e_total_time' : 'NN-E\\ \\ ',\n",
    "       }, inplace=True)\n",
    "\n",
    "    df = df.style.format(thousands=',', precision=2)                \n",
    "\n",
    "    end_str = '}\\n\\\\caption{Training times.  All times in seconds.}\\n'\n",
    "    end_str += '\\\\label{tab:tr_times}\\n'\n",
    "    end_str += '\\\\end{table*}' \n",
    "\n",
    "    latex_str = df.to_latex(column_format='l|lll').replace('_','\\_').replace('nan', '-').replace('#', '\\#')\n",
    "    latex_str = latex_str.replace('cflp', 'CFLP')\n",
    "    latex_str = latex_str.replace('sslp', 'SSLP')\n",
    "    latex_str = latex_str.replace(\"ip\\_c\", \"INVP\").replace(\"\\_i\", \"\\_I\").replace(\"\\_b\", \"\\_B\")\n",
    "    latex_str = latex_str.replace(\"pp\", \"PP\")\n",
    "\n",
    "    latex_str2 = (latex_str.splitlines())\n",
    "    latex_str2.insert(1, '\\\\toprule')\n",
    "    latex_str2.insert(2, 'Problem & \\multicolumn{2}{c}{Data Generation Time} & \\multicolumn{2}{c}{Training Time} & \\multicolumn{2}{c}{Total Time }')\n",
    "    latex_str2.insert(3, '\\\\midrule')\n",
    "    latex_str2.insert(-1, '\\\\bottomrule')\n",
    "    latex_str2.insert(0, '\\\\begin{table*}[t]\\\\centering\\\\resizebox{0.4\\\\textwidth}{!}{')\n",
    "    latex_str2[-1] += end_str #'}\\end{table*}'#.insert(-1, '\\\\end{tabular}}')\n",
    "\n",
    "    print(\"\\n\".join(latex_str2))\n",
    "    print()"
   ]
  },
  {
   "cell_type": "code",
   "execution_count": 15,
   "metadata": {},
   "outputs": [],
   "source": [
    "ml_data_metrics = [\n",
    "    'nn_e_n_samples',\n",
    "    'nn_e_time_per_sample',\n",
    "    'nn_e_data_generation_time',\n",
    "    'nn_p_n_samples',\n",
    "    'nn_p_time_per_sample',\n",
    "    'nn_p_data_generation_time',\n",
    "    'nn_e_training_time',\n",
    "    'nn_p_training_time',\n",
    "    'lr_training_time',\n",
    "]"
   ]
  },
  {
   "cell_type": "code",
   "execution_count": 16,
   "metadata": {
    "id": "voVbVbUqNoBQ"
   },
   "outputs": [],
   "source": [
    "cflp_ml_df = get_ml_data_df(result_df, ml_data_metrics, \"cflp\")\n",
    "sslp_ml_df = get_ml_data_df(result_df, ml_data_metrics, \"sslp\")\n",
    "ip_ml_df = get_ml_data_df(result_df, ml_data_metrics, \"ip\")\n",
    "pp_ml_df = get_ml_data_df(result_df, ml_data_metrics, \"pp\")"
   ]
  },
  {
   "cell_type": "code",
   "execution_count": 17,
   "metadata": {
    "colab": {
     "base_uri": "https://localhost:8080/"
    },
    "id": "vtgf-Xc8c9_w",
    "outputId": "282b07fb-9832-4b30-ad29-16d0f73ff65a"
   },
   "outputs": [
    {
     "name": "stdout",
     "output_type": "stream",
     "text": [
      "\\begin{table*}[t]\\centering\\resizebox{0.4\\textwidth}{!}{\n",
      "\\begin{tabular}{l|lll}\n",
      "\\toprule\n",
      "Problem & \\multicolumn{2}{c}{Data Generation Time} & \\multicolumn{2}{c}{Training Time} & \\multicolumn{2}{c}{Total Time }\n",
      "\\midrule\n",
      " & NN-E & NN-P & NN-E\\  & NN-P\\  & NN-E\\ \\  & NN-P\\ \\  \\\\\n",
      "CFLP\\_10\\_10 & 1,756.55 & 12.12 & 410.10 & 538.42 & 2,166.65 & 550.53 \\\\\n",
      "CFLP\\_25\\_25 & 6,740.48 & 158.61 & 403.82 & 611.60 & 7,144.30 & 770.22 \\\\\n",
      "CFLP\\_50\\_50 & 11,799.16 & 248.00 & 388.89 & 198.80 & 12,188.05 & 446.80 \\\\\n",
      "\\bottomrule\n",
      "\\end{tabular}}\n",
      "\\caption{Training times.  All times in seconds.}\n",
      "\\label{tab:tr_times}\n",
      "\\end{table*}\n",
      "\n"
     ]
    }
   ],
   "source": [
    "latex_offline_times(cflp_ml_df)"
   ]
  },
  {
   "cell_type": "code",
   "execution_count": 18,
   "metadata": {
    "colab": {
     "base_uri": "https://localhost:8080/"
    },
    "id": "KN1XydGjdA98",
    "outputId": "12d7ff58-1b1a-43ca-be67-b9c5c0af488f"
   },
   "outputs": [
    {
     "name": "stdout",
     "output_type": "stream",
     "text": [
      "\\begin{table*}[t]\\centering\\resizebox{0.4\\textwidth}{!}{\n",
      "\\begin{tabular}{l|lll}\n",
      "\\toprule\n",
      "Problem & \\multicolumn{2}{c}{Data Generation Time} & \\multicolumn{2}{c}{Training Time} & \\multicolumn{2}{c}{Total Time }\n",
      "\\midrule\n",
      " & NN-E & NN-P & NN-E\\  & NN-P\\  & NN-E\\ \\  & NN-P\\ \\  \\\\\n",
      "SSLP\\_10\\_50 & 1,021.84 & 26.61 & 387.55 & 1,019.51 & 1,409.39 & 1,046.12 \\\\\n",
      "SSLP\\_15\\_45 & 1,259.05 & 26.73 & 409.45 & 1,020.20 & 1,668.49 & 1,046.93 \\\\\n",
      "SSLP\\_5\\_25 & 938.86 & 15.98 & 400.34 & 1,025.75 & 1,339.21 & 1,041.73 \\\\\n",
      "\\bottomrule\n",
      "\\end{tabular}}\n",
      "\\caption{Training times.  All times in seconds.}\n",
      "\\label{tab:tr_times}\n",
      "\\end{table*}\n",
      "\n"
     ]
    }
   ],
   "source": [
    "latex_offline_times(sslp_ml_df)"
   ]
  },
  {
   "cell_type": "code",
   "execution_count": 19,
   "metadata": {
    "colab": {
     "base_uri": "https://localhost:8080/"
    },
    "id": "EkrKqQypdENi",
    "outputId": "78e6da7a-4297-4731-a38f-0f0e595096ef"
   },
   "outputs": [
    {
     "name": "stdout",
     "output_type": "stream",
     "text": [
      "\\begin{table*}[t]\\centering\\resizebox{0.4\\textwidth}{!}{\n",
      "\\begin{tabular}{l|lll}\n",
      "\\toprule\n",
      "Problem & \\multicolumn{2}{c}{Data Generation Time} & \\multicolumn{2}{c}{Training Time} & \\multicolumn{2}{c}{Total Time }\n",
      "\\midrule\n",
      " & NN-E & NN-P & NN-E\\  & NN-P\\  & NN-E\\ \\  & NN-P\\ \\  \\\\\n",
      "ip\\_B\\_E & 13,917.70 & 3.75 & 402.54 & 219.61 & 14,320.24 & 223.35 \\\\\n",
      "ip\\_B\\_H & 13,722.34 & 3.69 & 408.53 & 627.87 & 14,130.88 & 631.56 \\\\\n",
      "ip\\_I\\_E & 15,336.42 & 3.50 & 393.05 & 679.28 & 15,729.47 & 682.78 \\\\\n",
      "ip\\_I\\_H & 12,959.41 & 3.59 & 447.30 & 555.88 & 13,406.72 & 559.47 \\\\\n",
      "\\bottomrule\n",
      "\\end{tabular}}\n",
      "\\caption{Training times.  All times in seconds.}\n",
      "\\label{tab:tr_times}\n",
      "\\end{table*}\n",
      "\n"
     ]
    }
   ],
   "source": [
    "latex_offline_times(ip_ml_df)"
   ]
  },
  {
   "cell_type": "code",
   "execution_count": 20,
   "metadata": {
    "colab": {
     "base_uri": "https://localhost:8080/"
    },
    "id": "-woEPzjbdNBV",
    "outputId": "9a0c6548-5358-4ba2-dba9-8f9b86cc32b1"
   },
   "outputs": [
    {
     "name": "stdout",
     "output_type": "stream",
     "text": [
      "\\begin{table*}[t]\\centering\\resizebox{0.4\\textwidth}{!}{\n",
      "\\begin{tabular}{l|lll}\n",
      "\\toprule\n",
      "Problem & \\multicolumn{2}{c}{Data Generation Time} & \\multicolumn{2}{c}{Training Time} & \\multicolumn{2}{c}{Total Time }\n",
      "\\midrule\n",
      " & NN-E & NN-P & NN-E\\  & NN-P\\  & NN-E\\ \\  & NN-P\\ \\  \\\\\n",
      "PP & 1,272.40 & 19.12 & 411.90 & 362.46 & 1,684.29 & 381.58 \\\\\n",
      "\\bottomrule\n",
      "\\end{tabular}}\n",
      "\\caption{Training times.  All times in seconds.}\n",
      "\\label{tab:tr_times}\n",
      "\\end{table*}\n",
      "\n"
     ]
    }
   ],
   "source": [
    "latex_offline_times(pp_ml_df)"
   ]
  },
  {
   "cell_type": "markdown",
   "metadata": {
    "id": "pYT8gwBPdw6p"
   },
   "source": [
    "## Tables 3-6: Optimziation Results\n"
   ]
  },
  {
   "cell_type": "code",
   "execution_count": 21,
   "metadata": {
    "id": "9eLr2KLwYAnf"
   },
   "outputs": [],
   "source": [
    "def latex_overall(df_, report_num_not_found=True):\n",
    "    \"\"\" Generate latex tables for main paper.  \"\"\"\n",
    "    df = df_.copy()\n",
    "\n",
    "    if \"cflp\" in df.index[0]:\n",
    "        problem = \"CFLP\"\n",
    "    elif \"sslp\" in df.index[0]:\n",
    "        problem = \"SSLP\"\n",
    "    elif \"ip\" in df.index[0]:\n",
    "        problem = \"INVP\"\n",
    "    elif \"pp\" in df.index[0]:\n",
    "        problem = \"PP\"\n",
    "    \n",
    "    if not report_num_not_found:\n",
    "        df = df.drop('nn_p_better', axis=1)\n",
    "        df = df.drop('nn_e_better', axis=1)\n",
    "\n",
    "    df.rename(columns={\n",
    "        'ef-nn_e_gap': 'EF-NN-E',\n",
    "        'ef-nn_p_gap': 'EF-NN-P', \n",
    "        'nn_p-nn_e_gap': 'NN-P-NN-E', \n",
    "        'ef_time' : 'EF',\n",
    "        'nn_p_time' : 'NN-P',\n",
    "        'nn_e_time' : 'NN-E',\n",
    "        'ef_time_to_nn_p' : 'NN-P\\ ',\n",
    "        'nn_p_better' : '',\n",
    "        'ef_time_to_nn_e' : 'NN-E\\ ',\n",
    "        'nn_e_better' : '\\ ',\n",
    "       }, inplace=True)\n",
    "\n",
    "    df = df.style.format(thousands=',', precision=2)\\\n",
    "                  .highlight_min(subset=['EF', 'NN-P', 'NN-E'], props='textbf:--rwrap;', axis=1)#\\\n",
    "                 \n",
    "    if not report_num_not_found:\n",
    "        latex_str = df.to_latex(column_format='l|ll|lll|ll')\n",
    "        n_cols = 8\n",
    "        n_cols_last_block = 2\n",
    "    else:\n",
    "        latex_str = df.to_latex(column_format='l|ll|lll|llll')\n",
    "        n_cols = 10\n",
    "        n_cols_last_block = 4\n",
    "      \n",
    "    latex_str = latex_str.replace('_','\\_').replace('nan', '-').replace('#', '\\#')\n",
    "    latex_str = latex_str.replace('cflp', 'CFLP')\n",
    "    latex_str = latex_str.replace('sslp', 'SSLP')\n",
    "    latex_str = latex_str.replace(\"ip\\_c\", \"INVP\").replace(\"\\_i\", \"\\_I\").replace(\"\\_b\", \"\\_B\")\n",
    "    latex_str = latex_str.replace(\"pp\", \"PP\")\n",
    "\n",
    "    latex_str2 = (latex_str.splitlines())\n",
    "    latex_str2.insert(1, '\\\\toprule')\n",
    "    latex_str2.insert(2, 'Problem & \\multicolumn{2}{c}{Gap Difference} & \\multicolumn{3}{c}{Solving Time} & \\multicolumn{' + str(n_cols_last_block) + '}{c}{EF time to } \\\\\\\\')\n",
    "    latex_str2.insert(3, '\\cmidrule{2-' + str(n_cols) + '}')\n",
    "    latex_str2.insert(5, '\\\\midrule')\n",
    "    latex_str2.insert(-1, '\\\\bottomrule')\n",
    "    latex_str2.insert(0, '\\\\begin{table*}[t]\\\\centering\\\\resizebox{0.9\\\\textwidth}{!}{')\n",
    "    latex_str2[-1] += '}\\n\\caption{Results for ' + problem + '}\\n\\label{tab:res_' + problem + '}\\n\\end{table*}'#.insert(-1, '\\\\end{tabular}}')\n",
    "\n",
    "    print(\"\\n\".join(latex_str2))\n",
    "    print()"
   ]
  },
  {
   "cell_type": "code",
   "execution_count": 22,
   "metadata": {},
   "outputs": [],
   "source": [
    "downstream_metrics = [\n",
    "    'ef-nn_e_gap',\n",
    "    'ef-nn_p_gap', \n",
    "    'nn_e_time',\n",
    "    'nn_p_time',\n",
    "    'ef_time',\n",
    "    'ef_time_to_nn_e',\n",
    "    'nn_e_better',\n",
    "    'ef_time_to_nn_p',\n",
    "    'nn_p_better',\n",
    " ]"
   ]
  },
  {
   "cell_type": "code",
   "execution_count": 23,
   "metadata": {
    "id": "S8iiKV9wd73s"
   },
   "outputs": [],
   "source": [
    "cflp_agg_df = get_agg_df(result_df, downstream_metrics, problem='cflp')\n",
    "sslp_agg_df = get_agg_df(result_df, downstream_metrics, problem='sslp')\n",
    "ip_agg_df = get_agg_df(result_df, downstream_metrics, problem='ip')\n",
    "pp_agg_df = get_agg_df(result_df, downstream_metrics, problem='pp')"
   ]
  },
  {
   "cell_type": "code",
   "execution_count": 24,
   "metadata": {
    "colab": {
     "base_uri": "https://localhost:8080/"
    },
    "id": "2TO1a-VqbPAm",
    "outputId": "b8e4402c-6573-452c-9df8-4a21bbc14849"
   },
   "outputs": [
    {
     "name": "stdout",
     "output_type": "stream",
     "text": [
      "\\begin{table*}[t]\\centering\\resizebox{0.9\\textwidth}{!}{\n",
      "\\begin{tabular}{l|ll|lll|llll}\n",
      "\\toprule\n",
      "Problem & \\multicolumn{2}{c}{Gap Difference} & \\multicolumn{3}{c}{Solving Time} & \\multicolumn{4}{c}{EF time to } \\\\\n",
      "\\cmidrule{2-10}\n",
      " & EF-NN-E & EF-NN-P & NN-E & NN-P & EF & NN-E\\  & \\  & NN-P\\  &  \\\\\n",
      "\\midrule\n",
      "CFLP\\_10\\_10\\_100 & 1.80 & 0.04 & \\textbf{0.76} & 7.64 & 4,371.34 & 114.34 & (0) & 30.16 & (0) \\\\\n",
      "CFLP\\_10\\_10\\_500 & 0.00 & 0.32 & \\textbf{0.69} & 161.54 & 10,800.07 & 3,002.03 & (0) & 3,104.63 & (0) \\\\\n",
      "CFLP\\_10\\_10\\_1000 & -1.32 & -0.85 & \\textbf{0.68} & 721.36 & 10,800.46 & 5,876.12 & (7) & 7,235.60 & (8) \\\\\n",
      "CFLP\\_25\\_25\\_100 & 4.66 & -0.75 & 28.86 & \\textbf{11.33} & 10,800.06 & - & (10) & 109.93 & (0) \\\\\n",
      "CFLP\\_25\\_25\\_500 & 1.61 & -3.60 & \\textbf{29.30} & 79.30 & 10,800.12 & - & (10) & 950.27 & (1) \\\\\n",
      "CFLP\\_25\\_25\\_1000 & 4.32 & -1.11 & \\textbf{29.25} & 203.59 & 10,800.44 & - & (10) & 3,909.45 & (0) \\\\\n",
      "CFLP\\_50\\_50\\_100 & 1.91 & -1.19 & \\textbf{16.09} & 21.68 & 10,800.04 & - & (10) & 1,386.73 & (0) \\\\\n",
      "CFLP\\_50\\_50\\_500 & -6.68 & -9.32 & \\textbf{16.03} & 132.79 & 10,800.23 & - & (10) & - & (10) \\\\\n",
      "CFLP\\_50\\_50\\_1000 & -14.81 & -17.21 & \\textbf{15.78} & 331.66 & 10,800.58 & - & (10) & - & (10) \\\\\n",
      "\\bottomrule\n",
      "\\end{tabular}}\n",
      "\\caption{Results for CFLP}\n",
      "\\label{tab:res_CFLP}\n",
      "\\end{table*}\n",
      "\n"
     ]
    }
   ],
   "source": [
    "latex_overall(cflp_agg_df)"
   ]
  },
  {
   "cell_type": "code",
   "execution_count": 25,
   "metadata": {
    "colab": {
     "base_uri": "https://localhost:8080/"
    },
    "id": "e9-QqG-rdAS5",
    "outputId": "3a16a1fa-aa66-4bc9-8d17-bca8e45e1c5a"
   },
   "outputs": [
    {
     "name": "stdout",
     "output_type": "stream",
     "text": [
      "\\begin{table*}[t]\\centering\\resizebox{0.9\\textwidth}{!}{\n",
      "\\begin{tabular}{l|ll|lll|llll}\n",
      "\\toprule\n",
      "Problem & \\multicolumn{2}{c}{Gap Difference} & \\multicolumn{3}{c}{Solving Time} & \\multicolumn{4}{c}{EF time to } \\\\\n",
      "\\cmidrule{2-10}\n",
      " & EF-NN-E & EF-NN-P & NN-E & NN-P & EF & NN-E\\  & \\  & NN-P\\  &  \\\\\n",
      "\\midrule\n",
      "SSLP\\_10\\_50\\_50 & 0.00 & 4.15 & \\textbf{0.51} & 15.65 & 10,800.08 & 14.75 & (0) & 205.12 & (0) \\\\\n",
      "SSLP\\_10\\_50\\_100 & -0.00 & 4.41 & \\textbf{0.51} & 41.56 & 10,800.14 & 95.21 & (0) & 147.45 & (0) \\\\\n",
      "SSLP\\_10\\_50\\_500 & -0.14 & 4.16 & \\textbf{0.53} & 2,373.73 & 10,802.85 & 2,759.60 & (0) & 7,622.50 & (5) \\\\\n",
      "SSLP\\_10\\_50\\_1000 & -11.92 & -7.71 & \\textbf{0.55} & 10,857.85 & 10,800.27 & 9,763.43 & (6) & - & (11) \\\\\n",
      "SSLP\\_10\\_50\\_2000 & -102.69 & -24.88 & \\textbf{0.57} & 11,575.53 & 10,800.34 & 244.34 & (6) & - & (11) \\\\\n",
      "SSLP\\_15\\_45\\_5 & 2.27 & 2.28 & \\textbf{0.28} & 18.06 & 2.11 & 1.44 & (0) & 0.41 & (0) \\\\\n",
      "SSLP\\_15\\_45\\_10 & 1.70 & 1.68 & \\textbf{0.28} & 44.47 & 1,977.95 & 331.32 & (0) & 9.06 & (0) \\\\\n",
      "SSLP\\_15\\_45\\_15 & 1.18 & 1.34 & \\textbf{0.27} & 87.26 & 2,047.81 & 25.34 & (0) & 45.34 & (1) \\\\\n",
      "SSLP\\_5\\_25\\_50 & 0.12 & 0.12 & \\textbf{0.45} & 2.76 & 2.39 & 2.05 & (0) & 2.05 & (0) \\\\\n",
      "SSLP\\_5\\_25\\_100 & 0.02 & 0.02 & \\textbf{0.45} & 7.59 & 8.28 & 7.88 & (0) & 7.88 & (0) \\\\\n",
      "\\bottomrule\n",
      "\\end{tabular}}\n",
      "\\caption{Results for SSLP}\n",
      "\\label{tab:res_SSLP}\n",
      "\\end{table*}\n",
      "\n"
     ]
    }
   ],
   "source": [
    "latex_overall(sslp_agg_df)"
   ]
  },
  {
   "cell_type": "code",
   "execution_count": 26,
   "metadata": {
    "colab": {
     "base_uri": "https://localhost:8080/"
    },
    "id": "hjWthdLyU1xd",
    "outputId": "71d5542d-972e-4b84-f22e-d037be365ecb"
   },
   "outputs": [
    {
     "name": "stdout",
     "output_type": "stream",
     "text": [
      "\\begin{table*}[t]\\centering\\resizebox{0.9\\textwidth}{!}{\n",
      "\\begin{tabular}{l|ll|lll|ll}\n",
      "\\toprule\n",
      "Problem & \\multicolumn{2}{c}{Gap Difference} & \\multicolumn{3}{c}{Solving Time} & \\multicolumn{2}{c}{EF time to } \\\\\n",
      "\\cmidrule{2-8}\n",
      " & EF-NN-E & EF-NN-P & NN-E & NN-P & EF & NN-E\\  & NN-P\\  \\\\\n",
      "\\midrule\n",
      "ip\\_B\\_E\\_4 & 11.90 & 4.28 & 0.17 & 0.21 & \\textbf{0.01} & 0.01 & 0.01 \\\\\n",
      "ip\\_B\\_E\\_9 & 10.49 & 6.43 & 0.16 & 0.41 & \\textbf{0.01} & 0.01 & 0.01 \\\\\n",
      "ip\\_B\\_E\\_36 & 2.84 & 0.69 & 0.17 & 2.09 & \\textbf{0.08} & 0.02 & 0.02 \\\\\n",
      "ip\\_B\\_E\\_121 & 3.17 & 4.85 & \\textbf{0.18} & 41.40 & 1.97 & 0.02 & 0.02 \\\\\n",
      "ip\\_B\\_E\\_441 & 0.51 & 0.99 & \\textbf{0.18} & 1,842.97 & 104.31 & 1.00 & 1.09 \\\\\n",
      "ip\\_B\\_E\\_1681 & 0.48 & - & \\textbf{0.23} & 10,833.81 & 10,800.05 & 0.00 & 18.31 \\\\\n",
      "ip\\_B\\_E\\_10000 & -1.92 & - & \\textbf{0.33} & 11,156.21 & 10,816.93 & 0.00 & - \\\\\n",
      "ip\\_B\\_H\\_4 & 8.81 & 0.96 & 0.21 & 0.34 & \\textbf{0.02} & 0.02 & 0.02 \\\\\n",
      "ip\\_B\\_H\\_9 & 5.04 & 8.77 & 0.30 & 0.44 & \\textbf{0.02} & 0.01 & 0.01 \\\\\n",
      "ip\\_B\\_H\\_36 & 1.61 & 1.61 & \\textbf{0.18} & 12.08 & 1.51 & 0.01 & 0.01 \\\\\n",
      "ip\\_B\\_H\\_121 & 1.77 & 1.77 & \\textbf{0.23} & 77.62 & 40.17 & 0.02 & 0.02 \\\\\n",
      "ip\\_B\\_H\\_441 & 2.13 & 2.12 & \\textbf{0.19} & 6,165.53 & 182.41 & 1.78 & 1.78 \\\\\n",
      "ip\\_B\\_H\\_1681 & -0.71 & -0.92 & \\textbf{0.19} & 10,839.78 & 10,800.06 & - & - \\\\\n",
      "ip\\_B\\_H\\_10000 & -2.72 & - & \\textbf{0.31} & 11,133.85 & 10,807.27 & 0.00 & - \\\\\n",
      "ip\\_I\\_E\\_4 & 14.09 & 7.45 & 0.21 & 0.28 & \\textbf{0.01} & 0.01 & 0.01 \\\\\n",
      "ip\\_I\\_E\\_9 & 8.00 & 2.51 & 0.26 & 0.64 & \\textbf{0.04} & 0.01 & 0.01 \\\\\n",
      "ip\\_I\\_E\\_36 & 4.56 & 1.93 & 0.18 & 2.88 & \\textbf{0.04} & 0.01 & 0.01 \\\\\n",
      "ip\\_I\\_E\\_121 & 3.95 & 5.22 & \\textbf{0.22} & 92.99 & 1.68 & 0.03 & 0.03 \\\\\n",
      "ip\\_I\\_E\\_441 & 1.16 & 1.42 & \\textbf{0.21} & 10,811.13 & 45.38 & 0.06 & 0.06 \\\\\n",
      "ip\\_I\\_E\\_1681 & 1.21 & - & \\textbf{0.25} & 10,831.52 & 10,800.00 & 0.00 & 0.40 \\\\\n",
      "ip\\_I\\_E\\_10000 & -1.34 & - & \\textbf{0.34} & 11,203.40 & 10,807.66 & 0.00 & - \\\\\n",
      "ip\\_I\\_H\\_4 & 13.78 & 9.99 & 0.21 & 0.26 & \\textbf{0.02} & 0.01 & 0.01 \\\\\n",
      "ip\\_I\\_H\\_9 & 9.12 & 13.41 & 0.21 & 1.13 & \\textbf{0.02} & 0.01 & 0.01 \\\\\n",
      "ip\\_I\\_H\\_36 & 4.97 & 4.38 & \\textbf{0.26} & 5.42 & 1.42 & 0.03 & 0.03 \\\\\n",
      "ip\\_I\\_H\\_121 & 4.01 & 4.03 & \\textbf{0.20} & 93.97 & 7.01 & 0.04 & 0.04 \\\\\n",
      "ip\\_I\\_H\\_441 & 3.15 & 3.15 & \\textbf{0.26} & 4,168.28 & 10,800.00 & 0.33 & 0.33 \\\\\n",
      "ip\\_I\\_H\\_1681 & -0.34 & - & \\textbf{0.26} & 10,835.94 & 10,800.00 & 0.00 & - \\\\\n",
      "ip\\_I\\_H\\_10000 & -1.60 & - & \\textbf{0.37} & 11,212.65 & 10,800.45 & 0.00 & - \\\\\n",
      "\\bottomrule\n",
      "\\end{tabular}}\n",
      "\\caption{Results for INVP}\n",
      "\\label{tab:res_INVP}\n",
      "\\end{table*}\n",
      "\n"
     ]
    }
   ],
   "source": [
    "latex_overall(ip_agg_df, False)"
   ]
  },
  {
   "cell_type": "code",
   "execution_count": 27,
   "metadata": {
    "colab": {
     "base_uri": "https://localhost:8080/"
    },
    "id": "VQnm5jmgVP_J",
    "outputId": "249e0370-6779-42c3-be70-c08408286d56"
   },
   "outputs": [
    {
     "name": "stdout",
     "output_type": "stream",
     "text": [
      "\\begin{table*}[t]\\centering\\resizebox{0.9\\textwidth}{!}{\n",
      "\\begin{tabular}{l|ll|lll|ll}\n",
      "\\toprule\n",
      "Problem & \\multicolumn{2}{c}{Gap Difference} & \\multicolumn{3}{c}{Solving Time} & \\multicolumn{2}{c}{EF time to } \\\\\n",
      "\\cmidrule{2-8}\n",
      " & EF-NN-E & EF-NN-P & NN-E & NN-P & EF & NN-E\\  & NN-P\\  \\\\\n",
      "\\midrule\n",
      "PP\\_125 & 3.25 & 6.12 & \\textbf{1.30} & 150.98 & 10,800.00 & 3.04 & 7,035.18 \\\\\n",
      "PP\\_216 & 9.06 & 17.55 & \\textbf{1.26} & 5,165.09 & 395.08 & 3.77 & 63.41 \\\\\n",
      "PP\\_343 & 0.67 & 5.78 & \\textbf{1.27} & 1,587.81 & 10,800.02 & 44.52 & 1,383.76 \\\\\n",
      "PP\\_512 & 8.69 & 18.77 & \\textbf{1.13} & 10,830.45 & 10,800.00 & 18.15 & 143.80 \\\\\n",
      "PP\\_729 & 1.38 & 32.00 & \\textbf{3.69} & 10,844.09 & 10,800.00 & 54.95 & 6,225.54 \\\\\n",
      "PP\\_1000 & 5.92 & 325.41 & \\textbf{1.38} & 10,862.35 & 10,800.01 & 0.00 & 1,855.05 \\\\\n",
      "\\bottomrule\n",
      "\\end{tabular}}\n",
      "\\caption{Results for PP}\n",
      "\\label{tab:res_PP}\n",
      "\\end{table*}\n",
      "\n"
     ]
    }
   ],
   "source": [
    "latex_overall(pp_agg_df, False)"
   ]
  },
  {
   "cell_type": "markdown",
   "metadata": {},
   "source": [
    "# Appendix Results"
   ]
  },
  {
   "cell_type": "markdown",
   "metadata": {},
   "source": [
    "## Table 8: Data Generation"
   ]
  },
  {
   "cell_type": "code",
   "execution_count": 28,
   "metadata": {},
   "outputs": [],
   "source": [
    "def latex_appendix_data_times(df_):\n",
    "    \"\"\" Generate Latex table for data generation stats.  \"\"\"\n",
    "    df = df_.copy()\n",
    "    df = df.drop(['nn_p_training_time', 'nn_e_training_time', 'lr_training_time'], axis=1)\n",
    "\n",
    "    df.rename(columns={\n",
    "        'nn_p_n_samples' : '# samples',\n",
    "        'nn_p_time_per_sample' : 'Time per sample',\n",
    "        'nn_p_data_generation_time' : 'Total time',\n",
    "        'nn_e_n_samples' : '# samples\\ ',\n",
    "        'nn_e_time_per_sample' : 'Time per sample\\ ',\n",
    "        'nn_e_data_generation_time' : 'Total time\\ ',\n",
    "\n",
    "       }, inplace=True)\n",
    "\n",
    "    df = df.style.format(thousands=',', precision=2)                \n",
    "\n",
    "    end_str = '}\\n\\\\caption{Data generation stats and time.  All times in seconds.}\\n'\n",
    "    end_str += '\\\\label{tab:tr_times}\\n'\n",
    "    end_str += '\\\\end{table*}' \n",
    "\n",
    "    latex_str = df.to_latex(column_format='l|lll|lll').replace('_','\\_').replace('nan', '-').replace('#', '\\#')\n",
    "    latex_str = latex_str.replace('cflp', 'CFLP')\n",
    "    latex_str = latex_str.replace('sslp', 'SSLP')\n",
    "    latex_str = latex_str.replace(\"ip\\_c\", \"INVP\").replace(\"\\_i\", \"\\_I\").replace(\"\\_b\", \"\\_B\")\n",
    "    latex_str = latex_str.replace(\"pp\", \"PP\")\n",
    "\n",
    "    latex_str2 = (latex_str.splitlines())\n",
    "    latex_str2.insert(1, '\\\\toprule')\n",
    "    latex_str2.insert(2, 'Problem & \\multicolumn{3}{c}{NN-E} & \\multicolumn{3}{c}{NN-E}')\n",
    "    latex_str2.insert(3, '\\\\midrule')\n",
    "    latex_str2.insert(-1, '\\\\bottomrule')\n",
    "    latex_str2.insert(0, '\\\\begin{table*}[t]\\\\centering\\\\resizebox{0.4\\\\textwidth}{!}{')\n",
    "    latex_str2[-1] += end_str #'}\\end{table*}'#.insert(-1, '\\\\end{tabular}}')\n",
    "\n",
    "    print(\"\\n\".join(latex_str2))\n",
    "    print()"
   ]
  },
  {
   "cell_type": "code",
   "execution_count": 29,
   "metadata": {},
   "outputs": [
    {
     "name": "stdout",
     "output_type": "stream",
     "text": [
      "\\begin{table*}[t]\\centering\\resizebox{0.4\\textwidth}{!}{\n",
      "\\begin{tabular}{l|lll|lll}\n",
      "\\toprule\n",
      "Problem & \\multicolumn{3}{c}{NN-E} & \\multicolumn{3}{c}{NN-E}\n",
      "\\midrule\n",
      " & \\# samples\\  & Time per sample\\  & Total time\\  & \\# samples & Time per sample & Total time & nn\\_e\\_total\\_time & nn\\_p\\_total\\_time \\\\\n",
      "CFLP\\_10\\_10 & 5,000 & 0.35 & 1,756.55 & 10,000 & 0.00 & 12.12 & 2,166.65 & 550.53 \\\\\n",
      "CFLP\\_25\\_25 & 5,000 & 1.35 & 6,740.48 & 10,000 & 0.02 & 158.61 & 7,144.30 & 770.22 \\\\\n",
      "CFLP\\_50\\_50 & 5,000 & 2.36 & 11,799.16 & 10,000 & 0.02 & 248.00 & 12,188.05 & 446.80 \\\\\n",
      "\\bottomrule\n",
      "\\end{tabular}}\n",
      "\\caption{Data generation stats and time.  All times in seconds.}\n",
      "\\label{tab:tr_times}\n",
      "\\end{table*}\n",
      "\n"
     ]
    }
   ],
   "source": [
    "latex_appendix_data_times(cflp_ml_df)"
   ]
  },
  {
   "cell_type": "code",
   "execution_count": 30,
   "metadata": {},
   "outputs": [
    {
     "name": "stdout",
     "output_type": "stream",
     "text": [
      "\\begin{table*}[t]\\centering\\resizebox{0.4\\textwidth}{!}{\n",
      "\\begin{tabular}{l|lll|lll}\n",
      "\\toprule\n",
      "Problem & \\multicolumn{3}{c}{NN-E} & \\multicolumn{3}{c}{NN-E}\n",
      "\\midrule\n",
      " & \\# samples\\  & Time per sample\\  & Total time\\  & \\# samples & Time per sample & Total time & nn\\_e\\_total\\_time & nn\\_p\\_total\\_time \\\\\n",
      "SSLP\\_10\\_50 & 5,000 & 0.20 & 1,021.84 & 10,000 & 0.00 & 26.61 & 1,409.39 & 1,046.12 \\\\\n",
      "SSLP\\_15\\_45 & 5,000 & 0.25 & 1,259.05 & 10,000 & 0.00 & 26.73 & 1,668.49 & 1,046.93 \\\\\n",
      "SSLP\\_5\\_25 & 5,000 & 0.19 & 938.86 & 10,000 & 0.00 & 15.98 & 1,339.21 & 1,041.73 \\\\\n",
      "\\bottomrule\n",
      "\\end{tabular}}\n",
      "\\caption{Data generation stats and time.  All times in seconds.}\n",
      "\\label{tab:tr_times}\n",
      "\\end{table*}\n",
      "\n"
     ]
    }
   ],
   "source": [
    "latex_appendix_data_times(sslp_ml_df)"
   ]
  },
  {
   "cell_type": "code",
   "execution_count": 31,
   "metadata": {},
   "outputs": [
    {
     "name": "stdout",
     "output_type": "stream",
     "text": [
      "\\begin{table*}[t]\\centering\\resizebox{0.4\\textwidth}{!}{\n",
      "\\begin{tabular}{l|lll|lll}\n",
      "\\toprule\n",
      "Problem & \\multicolumn{3}{c}{NN-E} & \\multicolumn{3}{c}{NN-E}\n",
      "\\midrule\n",
      " & \\# samples\\  & Time per sample\\  & Total time\\  & \\# samples & Time per sample & Total time & nn\\_e\\_total\\_time & nn\\_p\\_total\\_time \\\\\n",
      "ip\\_B\\_E & 5,000 & 2.78 & 13,917.70 & 10,000 & 0.00 & 3.75 & 14,320.24 & 223.35 \\\\\n",
      "ip\\_B\\_H & 5,000 & 2.74 & 13,722.34 & 10,000 & 0.00 & 3.69 & 14,130.88 & 631.56 \\\\\n",
      "ip\\_I\\_E & 5,000 & 3.07 & 15,336.42 & 10,000 & 0.00 & 3.50 & 15,729.47 & 682.78 \\\\\n",
      "ip\\_I\\_H & 5,000 & 2.59 & 12,959.41 & 10,000 & 0.00 & 3.59 & 13,406.72 & 559.47 \\\\\n",
      "\\bottomrule\n",
      "\\end{tabular}}\n",
      "\\caption{Data generation stats and time.  All times in seconds.}\n",
      "\\label{tab:tr_times}\n",
      "\\end{table*}\n",
      "\n"
     ]
    }
   ],
   "source": [
    "latex_appendix_data_times(ip_ml_df)"
   ]
  },
  {
   "cell_type": "code",
   "execution_count": 32,
   "metadata": {},
   "outputs": [
    {
     "name": "stdout",
     "output_type": "stream",
     "text": [
      "\\begin{table*}[t]\\centering\\resizebox{0.4\\textwidth}{!}{\n",
      "\\begin{tabular}{l|lll|lll}\n",
      "\\toprule\n",
      "Problem & \\multicolumn{3}{c}{NN-E} & \\multicolumn{3}{c}{NN-E}\n",
      "\\midrule\n",
      " & \\# samples\\  & Time per sample\\  & Total time\\  & \\# samples & Time per sample & Total time & nn\\_e\\_total\\_time & nn\\_p\\_total\\_time \\\\\n",
      "PP & 5,000 & 0.25 & 1,272.40 & 10,000 & 0.00 & 19.12 & 1,684.29 & 381.58 \\\\\n",
      "\\bottomrule\n",
      "\\end{tabular}}\n",
      "\\caption{Data generation stats and time.  All times in seconds.}\n",
      "\\label{tab:tr_times}\n",
      "\\end{table*}\n",
      "\n"
     ]
    }
   ],
   "source": [
    "latex_appendix_data_times(pp_ml_df)"
   ]
  },
  {
   "cell_type": "markdown",
   "metadata": {},
   "source": [
    "## Table 9: Training Times"
   ]
  },
  {
   "cell_type": "code",
   "execution_count": 33,
   "metadata": {},
   "outputs": [],
   "source": [
    "def latex_appendix_training_times(df_):\n",
    "    \"\"\" Generate Latex table for data generation stats.  \"\"\"\n",
    "    df = df_.copy()\n",
    "    df = df.drop(['nn_p_n_samples', 'nn_p_time_per_sample', 'nn_p_data_generation_time', 'nn_p_total_time'], axis=1)\n",
    "    df = df.drop(['nn_e_n_samples', 'nn_e_time_per_sample', 'nn_e_data_generation_time', 'nn_e_total_time'], axis=1)\n",
    "\n",
    "    df.rename(columns={\n",
    "        'nn_e_training_time' : 'NN-E',\n",
    "        'nn_p_training_time' : 'NN-P',\n",
    "        'lr_training_time' : 'LR',\n",
    "       }, inplace=True)\n",
    "\n",
    "    df = df.style.format(thousands=',', precision=2)                \n",
    "\n",
    "    end_str = '}\\n\\\\caption{Training times.  All times in seconds.}\\n'\n",
    "    end_str += '\\\\label{tab:tr_times}\\n'\n",
    "    end_str += '\\\\end{table*}' \n",
    "\n",
    "    latex_str = df.to_latex(column_format='l|lll|lll').replace('_','\\_').replace('nan', '-').replace('#', '\\#')\n",
    "    latex_str = latex_str.replace('cflp', 'CFLP')\n",
    "    latex_str = latex_str.replace('sslp', 'SSLP')\n",
    "    latex_str = latex_str.replace(\"ip\\_c\", \"INVP\").replace(\"\\_i\", \"\\_I\").replace(\"\\_b\", \"\\_B\")\n",
    "    latex_str = latex_str.replace(\"pp\", \"PP\")\n",
    "\n",
    "    latex_str2 = (latex_str.splitlines())\n",
    "    latex_str2.insert(1, '\\\\toprule')\n",
    "    latex_str2.insert(3, '\\\\midrule')\n",
    "    latex_str2.insert(-1, '\\\\bottomrule')\n",
    "    latex_str2.insert(0, '\\\\begin{table*}[t]\\\\centering\\\\resizebox{0.4\\\\textwidth}{!}{')\n",
    "    latex_str2[-1] += end_str #'}\\end{table*}'#.insert(-1, '\\\\end{tabular}}')\n",
    "\n",
    "    print(\"\\n\".join(latex_str2))\n",
    "    print()"
   ]
  },
  {
   "cell_type": "code",
   "execution_count": 34,
   "metadata": {},
   "outputs": [
    {
     "name": "stdout",
     "output_type": "stream",
     "text": [
      "\\begin{table*}[t]\\centering\\resizebox{0.4\\textwidth}{!}{\n",
      "\\begin{tabular}{l|lll|lll}\n",
      "\\toprule\n",
      " & NN-E & NN-P & LR \\\\\n",
      "\\midrule\n",
      "CFLP\\_10\\_10 & 410.10 & 538.42 & 0.02 \\\\\n",
      "CFLP\\_25\\_25 & 403.82 & 611.60 & 0.04 \\\\\n",
      "CFLP\\_50\\_50 & 388.89 & 198.80 & 0.05 \\\\\n",
      "\\bottomrule\n",
      "\\end{tabular}}\n",
      "\\caption{Training times.  All times in seconds.}\n",
      "\\label{tab:tr_times}\n",
      "\\end{table*}\n",
      "\n"
     ]
    }
   ],
   "source": [
    "latex_appendix_training_times(cflp_ml_df)"
   ]
  },
  {
   "cell_type": "code",
   "execution_count": 35,
   "metadata": {},
   "outputs": [
    {
     "name": "stdout",
     "output_type": "stream",
     "text": [
      "\\begin{table*}[t]\\centering\\resizebox{0.4\\textwidth}{!}{\n",
      "\\begin{tabular}{l|lll|lll}\n",
      "\\toprule\n",
      " & NN-E & NN-P & LR \\\\\n",
      "\\midrule\n",
      "SSLP\\_10\\_50 & 387.55 & 1,019.51 & 0.25 \\\\\n",
      "SSLP\\_15\\_45 & 409.45 & 1,020.20 & 0.04 \\\\\n",
      "SSLP\\_5\\_25 & 400.34 & 1,025.75 & 0.02 \\\\\n",
      "\\bottomrule\n",
      "\\end{tabular}}\n",
      "\\caption{Training times.  All times in seconds.}\n",
      "\\label{tab:tr_times}\n",
      "\\end{table*}\n",
      "\n"
     ]
    }
   ],
   "source": [
    "latex_appendix_training_times(sslp_ml_df)"
   ]
  },
  {
   "cell_type": "code",
   "execution_count": 36,
   "metadata": {},
   "outputs": [
    {
     "name": "stdout",
     "output_type": "stream",
     "text": [
      "\\begin{table*}[t]\\centering\\resizebox{0.4\\textwidth}{!}{\n",
      "\\begin{tabular}{l|lll|lll}\n",
      "\\toprule\n",
      " & NN-E & NN-P & LR \\\\\n",
      "\\midrule\n",
      "ip\\_B\\_E & 402.54 & 219.61 & 0.01 \\\\\n",
      "ip\\_B\\_H & 408.53 & 627.87 & 0.02 \\\\\n",
      "ip\\_I\\_E & 393.05 & 679.28 & 0.10 \\\\\n",
      "ip\\_I\\_H & 447.30 & 555.88 & 0.09 \\\\\n",
      "\\bottomrule\n",
      "\\end{tabular}}\n",
      "\\caption{Training times.  All times in seconds.}\n",
      "\\label{tab:tr_times}\n",
      "\\end{table*}\n",
      "\n"
     ]
    }
   ],
   "source": [
    "latex_appendix_training_times(ip_ml_df)"
   ]
  },
  {
   "cell_type": "code",
   "execution_count": 37,
   "metadata": {},
   "outputs": [
    {
     "name": "stdout",
     "output_type": "stream",
     "text": [
      "\\begin{table*}[t]\\centering\\resizebox{0.4\\textwidth}{!}{\n",
      "\\begin{tabular}{l|lll|lll}\n",
      "\\toprule\n",
      " & NN-E & NN-P & LR \\\\\n",
      "\\midrule\n",
      "PP & 411.90 & 362.46 & 0.02 \\\\\n",
      "\\bottomrule\n",
      "\\end{tabular}}\n",
      "\\caption{Training times.  All times in seconds.}\n",
      "\\label{tab:tr_times}\n",
      "\\end{table*}\n",
      "\n"
     ]
    }
   ],
   "source": [
    "latex_appendix_training_times(pp_ml_df)"
   ]
  },
  {
   "cell_type": "markdown",
   "metadata": {
    "id": "OTWY6RdlpqRX"
   },
   "source": [
    "## Table 10-13: Objective Results"
   ]
  },
  {
   "cell_type": "code",
   "execution_count": 38,
   "metadata": {
    "id": "zG1hAicHrjBB"
   },
   "outputs": [],
   "source": [
    "def latex_appendix_objective(df):\n",
    "    \"\"\" Generate latex table for detailed objective results. \"\"\"\n",
    "    if \"cflp\" in df.index[0]:\n",
    "      problem = \"CFLP\"\n",
    "    elif \"sslp\" in df.index[0]:\n",
    "      problem = \"SSLP\"\n",
    "    elif \"ip\" in df.index[0]:\n",
    "      problem = \"INVP\"\n",
    "    elif \"pp\" in df.index[0]:\n",
    "      problem = \"PP\"\n",
    "\n",
    "    df.rename(columns={\n",
    "        'ef_obj' : 'EF',\n",
    "        'nn_p_true_obj' : 'NN-P',\n",
    "        'nn_e_true_obj' : 'NN-E', \n",
    "        'lr_true_obj' : 'LR',\n",
    "        'nn_p_pred_obj' : 'NN-P\\ ',\n",
    "        'nn_e_pred_obj' : 'NN-E\\ ', \n",
    "        'lr_pred_obj' : 'LR\\ ',\n",
    "       }, inplace=True)\n",
    "\n",
    "\n",
    "    if problem != \"PP\":\n",
    "        df = df.style.format(thousands=',', precision=2)\\\n",
    "                    .highlight_min(subset=['EF', 'NN-P', 'NN-E', 'LR'], props='textbf:--rwrap;', axis=1)\n",
    "\n",
    "    else:\n",
    "        df = df.style.format(thousands=',', precision=2)\\\n",
    "                    .highlight_max(subset=['EF', 'NN-P', 'NN-E', 'LR'], props='textbf:--rwrap;', axis=1)\n",
    "\n",
    "\n",
    "    latex_str = df.to_latex(column_format='l|llll|lll')\n",
    "\n",
    "    latex_str = latex_str.replace('_','\\_').replace('nan', '-').replace('#', '\\#')\n",
    "    latex_str = latex_str.replace('cflp', 'CFLP')\n",
    "    latex_str = latex_str.replace('sslp', 'SSLP')\n",
    "    latex_str = latex_str.replace(\"ip\\_c\", \"INVP\").replace(\"\\_i\", \"\\_I\").replace(\"\\_b\", \"\\_B\")\n",
    "    latex_str = latex_str.replace(\"pp\", \"PP\")\n",
    "\n",
    "    latex_str2 = (latex_str.splitlines())\n",
    "    latex_str2.insert(1, '\\\\toprule')\n",
    "    latex_str2.insert(2, 'Problem & \\multicolumn{4}{c}{True objective} & \\multicolumn{3}{c}{Approximate-MIP objective} \\\\\\\\')\n",
    "    latex_str2.insert(3, '\\cmidrule{2-8}')\n",
    "    latex_str2.insert(5, '\\\\midrule')\n",
    "    latex_str2.insert(-1, '\\\\bottomrule')\n",
    "    latex_str2.insert(0, '\\\\begin{table*}[t]\\\\centering\\\\resizebox{\\\\textwidth}{!}{')\n",
    "    latex_str2[-1] += '}\\n\\caption{Objective for ' + problem + '}\\n\\label{tab:obj_' + problem + '}\\n\\end{table*}'#.insert(-1, '\\\\end{tabular}}')\n",
    "\n",
    "    print(\"\\n\".join(latex_str2))\n",
    "    print()"
   ]
  },
  {
   "cell_type": "code",
   "execution_count": 39,
   "metadata": {},
   "outputs": [],
   "source": [
    "objective_metrics = [\n",
    "      'nn_e_true_obj', \n",
    "      'nn_p_true_obj', \n",
    "      'lr_true_obj', \n",
    "      'ef_obj',\n",
    "      'nn_e_pred_obj', \n",
    "      'nn_p_pred_obj',      \n",
    "      'lr_pred_obj', \n",
    " ]"
   ]
  },
  {
   "cell_type": "code",
   "execution_count": 40,
   "metadata": {
    "id": "5yPnWCnnpo82"
   },
   "outputs": [],
   "source": [
    "cflp_obj_df = get_agg_df(result_df, objective_metrics, problem='cflp')\n",
    "sslp_obj_df = get_agg_df(result_df, objective_metrics, problem='sslp')\n",
    "ip_obj_df = get_agg_df(result_df, objective_metrics, problem='ip')\n",
    "pp_obj_df = get_agg_df(result_df, objective_metrics, problem='pp')"
   ]
  },
  {
   "cell_type": "code",
   "execution_count": 41,
   "metadata": {
    "colab": {
     "base_uri": "https://localhost:8080/"
    },
    "id": "RNORgcYD77XF",
    "outputId": "4123dd39-14ab-449d-9658-5c8c03963a0d"
   },
   "outputs": [
    {
     "name": "stdout",
     "output_type": "stream",
     "text": [
      "\\begin{table*}[t]\\centering\\resizebox{\\textwidth}{!}{\n",
      "\\begin{tabular}{l|llll|lll}\n",
      "\\toprule\n",
      "Problem & \\multicolumn{4}{c}{True objective} & \\multicolumn{3}{c}{Approximate-MIP objective} \\\\\n",
      "\\cmidrule{2-8}\n",
      " & NN-E & NN-P & LR & EF & NN-E\\  & NN-P\\  & LR\\  \\\\\n",
      "\\midrule\n",
      "CFLP\\_10\\_10\\_100 & 7,121.76 & 6,997.87 & 10,418.87 & \\textbf{6,994.77} & 7,079.11 & 6,953.54 & 5,668.09 \\\\\n",
      "CFLP\\_10\\_10\\_500 & 7,003.30 & 7,025.32 & 10,410.19 & \\textbf{7,003.30} & 7,213.92 & 6,997.96 & 5,679.34 \\\\\n",
      "CFLP\\_10\\_10\\_1000 & \\textbf{6,994.31} & 7,027.68 & 10,406.08 & 7,088.34 & 7,241.96 & 6,982.23 & 5,658.34 \\\\\n",
      "CFLP\\_25\\_25\\_100 & 12,415.58 & \\textbf{11,773.01} & 23,833.73 & 11,864.78 & 10,918.02 & 12,024.61 & 10,440.12 \\\\\n",
      "CFLP\\_25\\_25\\_500 & 12,359.91 & \\textbf{11,726.34} & 23,834.34 & 12,169.12 & 10,918.02 & 11,976.81 & 10,387.23 \\\\\n",
      "CFLP\\_25\\_25\\_1000 & 12,352.73 & \\textbf{11,709.90} & 23,833.85 & 11,842.37 & 10,918.02 & 11,970.40 & 10,377.68 \\\\\n",
      "CFLP\\_50\\_50\\_100 & 25,824.64 & \\textbf{25,036.99} & 45,465.37 & 25,342.10 & 25,119.39 & 25,429.42 & 18,834.45 \\\\\n",
      "CFLP\\_50\\_50\\_500 & 25,764.43 & \\textbf{25,033.27} & 45,463.96 & 27,663.48 & 25,119.39 & 25,410.60 & 18,809.87 \\\\\n",
      "CFLP\\_50\\_50\\_1000 & 25,780.21 & \\textbf{25,052.24} & 45,464.15 & 30,263.81 & 25,119.39 & 25,421.19 & 18,802.90 \\\\\n",
      "\\bottomrule\n",
      "\\end{tabular}}\n",
      "\\caption{Objective for CFLP}\n",
      "\\label{tab:obj_CFLP}\n",
      "\\end{table*}\n",
      "\n"
     ]
    }
   ],
   "source": [
    "latex_appendix_objective(cflp_obj_df)"
   ]
  },
  {
   "cell_type": "code",
   "execution_count": 42,
   "metadata": {
    "colab": {
     "base_uri": "https://localhost:8080/"
    },
    "id": "tAyBaLG_po_9",
    "outputId": "324d4396-d84f-4726-e3d8-56e26a69cf65"
   },
   "outputs": [
    {
     "name": "stdout",
     "output_type": "stream",
     "text": [
      "\\begin{table*}[t]\\centering\\resizebox{\\textwidth}{!}{\n",
      "\\begin{tabular}{l|llll|lll}\n",
      "\\toprule\n",
      "Problem & \\multicolumn{4}{c}{True objective} & \\multicolumn{3}{c}{Approximate-MIP objective} \\\\\n",
      "\\cmidrule{2-8}\n",
      " & NN-E & NN-P & LR & EF & NN-E\\  & NN-P\\  & LR\\  \\\\\n",
      "\\midrule\n",
      "CFLP\\_10\\_10\\_100 & 7,121.76 & 6,997.87 & 10,418.87 & \\textbf{6,994.77} & 7,079.11 & 6,953.54 & 5,668.09 \\\\\n",
      "CFLP\\_10\\_10\\_500 & 7,003.30 & 7,025.32 & 10,410.19 & \\textbf{7,003.30} & 7,213.92 & 6,997.96 & 5,679.34 \\\\\n",
      "CFLP\\_10\\_10\\_1000 & \\textbf{6,994.31} & 7,027.68 & 10,406.08 & 7,088.34 & 7,241.96 & 6,982.23 & 5,658.34 \\\\\n",
      "CFLP\\_25\\_25\\_100 & 12,415.58 & \\textbf{11,773.01} & 23,833.73 & 11,864.78 & 10,918.02 & 12,024.61 & 10,440.12 \\\\\n",
      "CFLP\\_25\\_25\\_500 & 12,359.91 & \\textbf{11,726.34} & 23,834.34 & 12,169.12 & 10,918.02 & 11,976.81 & 10,387.23 \\\\\n",
      "CFLP\\_25\\_25\\_1000 & 12,352.73 & \\textbf{11,709.90} & 23,833.85 & 11,842.37 & 10,918.02 & 11,970.40 & 10,377.68 \\\\\n",
      "CFLP\\_50\\_50\\_100 & 25,824.64 & \\textbf{25,036.99} & 45,465.37 & 25,342.10 & 25,119.39 & 25,429.42 & 18,834.45 \\\\\n",
      "CFLP\\_50\\_50\\_500 & 25,764.43 & \\textbf{25,033.27} & 45,463.96 & 27,663.48 & 25,119.39 & 25,410.60 & 18,809.87 \\\\\n",
      "CFLP\\_50\\_50\\_1000 & 25,780.21 & \\textbf{25,052.24} & 45,464.15 & 30,263.81 & 25,119.39 & 25,421.19 & 18,802.90 \\\\\n",
      "\\bottomrule\n",
      "\\end{tabular}}\n",
      "\\caption{Objective for CFLP}\n",
      "\\label{tab:obj_CFLP}\n",
      "\\end{table*}\n",
      "\n"
     ]
    }
   ],
   "source": [
    "latex_appendix_objective(cflp_obj_df)"
   ]
  },
  {
   "cell_type": "code",
   "execution_count": 43,
   "metadata": {
    "colab": {
     "base_uri": "https://localhost:8080/"
    },
    "id": "daJPLC_5sjC0",
    "outputId": "996cca87-90b5-4f17-a979-f468f623e860"
   },
   "outputs": [
    {
     "name": "stdout",
     "output_type": "stream",
     "text": [
      "\\begin{table*}[t]\\centering\\resizebox{\\textwidth}{!}{\n",
      "\\begin{tabular}{l|llll|lll}\n",
      "\\toprule\n",
      "Problem & \\multicolumn{4}{c}{True objective} & \\multicolumn{3}{c}{Approximate-MIP objective} \\\\\n",
      "\\cmidrule{2-8}\n",
      " & NN-E & NN-P & LR & EF & NN-E\\  & NN-P\\  & LR\\  \\\\\n",
      "\\midrule\n",
      "SSLP\\_10\\_50\\_50 & -354.96 & -340.28 & -63.00 & \\textbf{-354.96} & -346.42 & -366.59 & -302.35 \\\\\n",
      "SSLP\\_10\\_50\\_100 & \\textbf{-345.86} & -330.61 & -49.62 & -345.86 & -346.42 & -355.68 & -292.58 \\\\\n",
      "SSLP\\_10\\_50\\_500 & \\textbf{-349.54} & -334.53 & -54.68 & -349.05 & -346.42 & -361.36 & -296.30 \\\\\n",
      "SSLP\\_10\\_50\\_1000 & \\textbf{-350.07} & -336.48 & -55.45 & -318.98 & -346.42 & -347.86 & -297.01 \\\\\n",
      "SSLP\\_10\\_50\\_2000 & \\textbf{-350.07} & -215.75 & -54.72 & -172.73 & -346.42 & -212.44 & -296.38 \\\\\n",
      "SSLP\\_15\\_45\\_5 & -249.51 & -249.58 & 8,650.22 & \\textbf{-255.55} & -249.58 & -236.83 & -45.44 \\\\\n",
      "SSLP\\_15\\_45\\_10 & -252.89 & -252.95 & 8,595.76 & \\textbf{-257.41} & -249.58 & -243.05 & -48.59 \\\\\n",
      "SSLP\\_15\\_45\\_15 & -254.58 & -254.16 & 8,680.39 & \\textbf{-257.68} & -249.58 & -245.10 & -52.04 \\\\\n",
      "SSLP\\_5\\_25\\_50 & -125.22 & -125.22 & 14.50 & \\textbf{-125.36} & -122.91 & -125.49 & -121.29 \\\\\n",
      "SSLP\\_5\\_25\\_100 & -120.91 & -120.91 & 19.87 & \\textbf{-120.94} & -122.91 & -120.96 & -119.10 \\\\\n",
      "\\bottomrule\n",
      "\\end{tabular}}\n",
      "\\caption{Objective for SSLP}\n",
      "\\label{tab:obj_SSLP}\n",
      "\\end{table*}\n",
      "\n"
     ]
    }
   ],
   "source": [
    "latex_appendix_objective(sslp_obj_df)"
   ]
  },
  {
   "cell_type": "code",
   "execution_count": 44,
   "metadata": {
    "colab": {
     "base_uri": "https://localhost:8080/"
    },
    "id": "T0wljDdNtQcX",
    "outputId": "cd78489f-8bbc-4d84-9c5e-e3bf9186098e"
   },
   "outputs": [
    {
     "name": "stdout",
     "output_type": "stream",
     "text": [
      "\\begin{table*}[t]\\centering\\resizebox{\\textwidth}{!}{\n",
      "\\begin{tabular}{l|llll|lll}\n",
      "\\toprule\n",
      "Problem & \\multicolumn{4}{c}{True objective} & \\multicolumn{3}{c}{Approximate-MIP objective} \\\\\n",
      "\\cmidrule{2-8}\n",
      " & NN-E & NN-P & LR & EF & NN-E\\  & NN-P\\  & LR\\  \\\\\n",
      "\\midrule\n",
      "ip\\_B\\_E\\_4 & -50.22 & -54.56 & -46.25 & \\textbf{-57.00} & -59.35 & -50.56 & -64.22 \\\\\n",
      "ip\\_B\\_E\\_9 & -53.11 & -55.52 & -53.11 & \\textbf{-59.33} & -58.95 & -55.00 & -64.22 \\\\\n",
      "ip\\_B\\_E\\_36 & -59.48 & -60.80 & -58.86 & \\textbf{-61.22} & -59.47 & -57.93 & -64.22 \\\\\n",
      "ip\\_B\\_E\\_121 & -60.32 & -59.27 & -61.06 & \\textbf{-62.29} & -59.61 & -59.06 & -64.22 \\\\\n",
      "ip\\_B\\_E\\_441 & -61.00 & -60.71 & -59.91 & \\textbf{-61.32} & -59.73 & -59.66 & -64.22 \\\\\n",
      "ip\\_B\\_E\\_1681 & -60.34 & - & -59.30 & \\textbf{-60.63} & -59.88 & inf & -64.22 \\\\\n",
      "ip\\_B\\_E\\_10000 & \\textbf{-60.11} & - & -58.68 & -58.98 & -59.97 & inf & -64.22 \\\\\n",
      "ip\\_B\\_H\\_4 & -51.75 & -56.20 & -51.75 & \\textbf{-56.75} & -59.70 & -51.80 & -61.29 \\\\\n",
      "ip\\_B\\_H\\_9 & -56.56 & -54.33 & -56.56 & \\textbf{-59.56} & -61.45 & -55.81 & -61.29 \\\\\n",
      "ip\\_B\\_H\\_36 & -59.31 & -59.31 & -59.31 & \\textbf{-60.28} & -60.19 & -58.91 & -61.29 \\\\\n",
      "ip\\_B\\_H\\_121 & -59.93 & -59.93 & -59.93 & \\textbf{-61.01} & -60.36 & -59.93 & -61.29 \\\\\n",
      "ip\\_B\\_H\\_441 & -60.14 & -60.14 & -60.14 & \\textbf{-61.44} & -61.57 & -60.44 & -61.29 \\\\\n",
      "ip\\_B\\_H\\_1681 & -60.47 & \\textbf{-60.59} & -60.47 & -60.04 & -61.68 & -60.17 & -61.29 \\\\\n",
      "ip\\_B\\_H\\_10000 & \\textbf{-60.53} & - & \\textbf{-60.53} & -58.93 & -60.95 & inf & -61.29 \\\\\n",
      "ip\\_I\\_E\\_4 & -54.55 & -58.77 & -52.50 & \\textbf{-63.50} & -66.99 & -59.53 & -71.47 \\\\\n",
      "ip\\_I\\_E\\_9 & -61.23 & -64.88 & -61.89 & \\textbf{-66.56} & -67.61 & -61.95 & -71.47 \\\\\n",
      "ip\\_I\\_E\\_36 & -66.67 & -68.51 & -67.08 & \\textbf{-69.86} & -67.37 & -65.08 & -71.47 \\\\\n",
      "ip\\_I\\_E\\_121 & -68.31 & -67.40 & -69.07 & \\textbf{-71.12} & -67.52 & -66.39 & -71.47 \\\\\n",
      "ip\\_I\\_E\\_441 & -68.83 & -68.65 & -67.39 & \\textbf{-69.64} & -67.64 & -67.07 & -71.47 \\\\\n",
      "ip\\_I\\_E\\_1681 & -68.02 & - & -66.52 & \\textbf{-68.85} & -67.65 & inf & -71.47 \\\\\n",
      "ip\\_I\\_E\\_10000 & \\textbf{-67.94} & - & -65.67 & -67.04 & -67.79 & inf & -71.47 \\\\\n",
      "ip\\_I\\_H\\_4 & -54.75 & -57.15 & -54.75 & \\textbf{-63.50} & -64.23 & -59.47 & -65.80 \\\\\n",
      "ip\\_I\\_H\\_9 & -59.78 & -56.95 & -59.78 & \\textbf{-65.78} & -64.81 & -60.96 & -65.80 \\\\\n",
      "ip\\_I\\_H\\_36 & -63.78 & -64.17 & -63.78 & \\textbf{-67.11} & -66.26 & -63.87 & -65.80 \\\\\n",
      "ip\\_I\\_H\\_121 & -65.03 & -65.02 & -65.03 & \\textbf{-67.75} & -65.46 & -64.85 & -65.80 \\\\\n",
      "ip\\_I\\_H\\_441 & -65.12 & -65.12 & -65.12 & \\textbf{-67.24} & -66.17 & -65.41 & -65.80 \\\\\n",
      "ip\\_I\\_H\\_1681 & \\textbf{-65.63} & - & \\textbf{-65.63} & -65.41 & -66.29 & inf & -65.80 \\\\\n",
      "ip\\_I\\_H\\_10000 & \\textbf{-65.66} & - & \\textbf{-65.66} & -64.63 & -66.34 & inf & -65.80 \\\\\n",
      "\\bottomrule\n",
      "\\end{tabular}}\n",
      "\\caption{Objective for INVP}\n",
      "\\label{tab:obj_INVP}\n",
      "\\end{table*}\n",
      "\n"
     ]
    }
   ],
   "source": [
    "latex_appendix_objective(ip_obj_df)"
   ]
  },
  {
   "cell_type": "code",
   "execution_count": 45,
   "metadata": {
    "colab": {
     "base_uri": "https://localhost:8080/"
    },
    "id": "hcFXhDRItQgF",
    "outputId": "d7eb1772-c613-4172-ebd1-6ffe636d7a64"
   },
   "outputs": [
    {
     "name": "stdout",
     "output_type": "stream",
     "text": [
      "\\begin{table*}[t]\\centering\\resizebox{\\textwidth}{!}{\n",
      "\\begin{tabular}{l|llll|lll}\n",
      "\\toprule\n",
      "Problem & \\multicolumn{4}{c}{True objective} & \\multicolumn{3}{c}{Approximate-MIP objective} \\\\\n",
      "\\cmidrule{2-8}\n",
      " & NN-E & NN-P & LR & EF & NN-E\\  & NN-P\\  & LR\\  \\\\\n",
      "\\midrule\n",
      "PP\\_125 & 264.30 & 256.48 & -107.18 & \\textbf{273.19} & 195.12 & 190.54 & 68.37 \\\\\n",
      "PP\\_216 & 200.29 & 181.59 & 46.56 & \\textbf{220.25} & 195.12 & 167.82 & 68.37 \\\\\n",
      "PP\\_343 & 206.38 & 195.76 & -26.07 & \\textbf{207.77} & 195.12 & 180.48 & 68.37 \\\\\n",
      "PP\\_512 & 204.41 & 181.83 & -65.15 & \\textbf{223.86} & 195.12 & 171.73 & 68.37 \\\\\n",
      "PP\\_729 & 219.42 & 151.28 & 40.91 & \\textbf{222.48} & 195.12 & 77.74 & 68.37 \\\\\n",
      "PP\\_1000 & 202.50 & -485.19 & -9.09 & \\textbf{215.25} & 195.12 & -449.07 & 68.37 \\\\\n",
      "\\bottomrule\n",
      "\\end{tabular}}\n",
      "\\caption{Objective for PP}\n",
      "\\label{tab:obj_PP}\n",
      "\\end{table*}\n",
      "\n"
     ]
    }
   ],
   "source": [
    "latex_appendix_objective(pp_obj_df)"
   ]
  },
  {
   "cell_type": "markdown",
   "metadata": {
    "id": "MwMWrNcBkRK7"
   },
   "source": [
    "## Table 14: SSLP SIPLIB Results"
   ]
  },
  {
   "cell_type": "code",
   "execution_count": 46,
   "metadata": {
    "id": "2Ex7QgRuvXTQ"
   },
   "outputs": [],
   "source": [
    "def compute_siplib_gaps(df, siplib_opt_sol_dict):    \n",
    "    \"\"\"  Computes optimality gaps from SIPLIB SSLP instances. \"\"\"\n",
    "    for index in df.index:\n",
    "        if 'sslp' not in index:\n",
    "            continue\n",
    "\n",
    "        for test_set in df['downstream'][index].keys():\n",
    "            if test_set != \"siplib\":\n",
    "                continue\n",
    "\n",
    "            ef_obj = df['downstream'][index][test_set]['ef_obj']\n",
    "            nn_p_obj = df['downstream'][index][test_set]['nn_p_true_obj']\n",
    "            nn_e_obj = df['downstream'][index][test_set]['nn_e_true_obj']\n",
    "\n",
    "            df['downstream'][index][test_set]['ef_gap'] = 100 * (ef_obj - siplib_opt_sol_dict[index]) / np.abs(siplib_opt_sol_dict[index])\n",
    "            df['downstream'][index][test_set]['nn_p_gap'] = 100 * (nn_p_obj - siplib_opt_sol_dict[index]) / np.abs(siplib_opt_sol_dict[index])\n",
    "            df['downstream'][index][test_set]['nn_e_gap'] = 100 * (nn_e_obj - siplib_opt_sol_dict[index]) / np.abs(siplib_opt_sol_dict[index])\n",
    "\n",
    "            if df['downstream'][index][test_set]['ef_gap'] < 1e-4:\n",
    "                df['downstream'][index][test_set]['ef_gap'] = 0.0\n",
    "            if df['downstream'][index][test_set]['nn_p_gap'] < 1e-4:\n",
    "                df['downstream'][index][test_set]['nn_p_gap'] = 0.0\n",
    "            if df['downstream'][index][test_set]['nn_e_gap'] < 1e-4:\n",
    "                df['downstream'][index][test_set]['nn_e_gap'] = 0.0\n",
    "                \n",
    "    return df"
   ]
  },
  {
   "cell_type": "code",
   "execution_count": 47,
   "metadata": {
    "id": "tZKVYsvBy33h"
   },
   "outputs": [],
   "source": [
    "def latex_sslp_siplib(df):\n",
    "    \"\"\" Generate latex table for SIPLIB SSLP instances. \"\"\"\n",
    "    df.rename(columns={\n",
    "          'ef_gap' : 'EF',\n",
    "          'nn_p_gap' : \"NN-P\",\n",
    "          'nn_e_gap' : \"NN-E\",\n",
    "          'ef_time' : \"EF\\ \",\n",
    "          'nn_p_time' : \"NN-P\\ \",\n",
    "          'nn_e_time' : \"NN-E\\ \",\n",
    "       }, inplace=True)\n",
    "    \n",
    "    df = df.style.format(thousands=',', precision=2)\\\n",
    "                 .highlight_min(subset=['EF', 'NN-P', 'NN-E'], props='textbf:--rwrap;', axis=1)\\\n",
    "                 .highlight_min(subset=['EF\\ ', 'NN-P\\ ', 'NN-E\\ '], props='textbf:--rwrap;', axis=1)#\n",
    "\n",
    "    siplib_caption = \"SSLP SIPLib gap and time compairison among methods. Optimal SIPLib instances values obtained from \\\\cite{ahmed2015siplib}.  All times in seconds.\"\n",
    "\n",
    "    latex_str = df.to_latex(column_format='l|lll|lll')\n",
    "\n",
    "    latex_str = latex_str.replace('_','\\_').replace('nan', '-').replace('#', '\\#')\n",
    "    latex_str = latex_str.replace('cflp', 'CFLP')\n",
    "    latex_str = latex_str.replace('sslp', 'SSLP')\n",
    "    latex_str = latex_str.replace(\"ip\\_c\", \"INVP\").replace(\"\\_i\", \"\\_I\").replace(\"\\_b\", \"\\_B\")\n",
    "    latex_str = latex_str.replace(\"pp\", \"PP\")\n",
    "\n",
    "    latex_str2 = (latex_str.splitlines())\n",
    "    latex_str2.insert(1, '\\\\toprule')\n",
    "    latex_str2.insert(2, 'Problem & \\multicolumn{3}{c}{Gap to Optimal} & \\multicolumn{3}{c}{Solving Time} \\\\\\\\')\n",
    "    latex_str2.insert(3, '\\cmidrule{2-7}')\n",
    "    latex_str2.insert(5, '\\\\midrule')\n",
    "    latex_str2.insert(-1, '\\\\bottomrule')\n",
    "    latex_str2.insert(0, '\\\\begin{table*}[t]\\\\centering\\\\resizebox{\\\\textwidth}{!}{')\n",
    "    latex_str2[-1] += '}\\n\\caption{' + siplib_caption + '}\\n\\label{tab:res_siplib}\\n\\end{table*}'#.insert(-1, '\\\\end{tabular}}')\n",
    "\n",
    "    print(\"\\n\".join(latex_str2))\n",
    "    print()\n"
   ]
  },
  {
   "cell_type": "code",
   "execution_count": 48,
   "metadata": {
    "id": "efvyE2PJu5ee"
   },
   "outputs": [],
   "source": [
    "siplib_opt_sol_dict = {\n",
    "    'sslp_5_25_50' : -121.600, \n",
    "    'sslp_5_25_100' : -127.370,\n",
    "    'sslp_10_50_50' : -364.640, \n",
    "    'sslp_10_50_100' : -354.190, \n",
    "    'sslp_10_50_500' : -349.136, \n",
    "    'sslp_10_50_1000' : -351.711, \n",
    "    'sslp_10_50_2000' : -347.262, \n",
    "    'sslp_15_45_5' : -262.400, \n",
    "    'sslp_15_45_10' : -260.500, \n",
    "    'sslp_15_45_15' : -253.602, \n",
    "}\n",
    "\n",
    "siplib_metrics = [\n",
    "    'nn_e_gap',\n",
    "    'nn_p_gap',\n",
    "    'ef_gap',\n",
    "    'nn_e_time',\n",
    "    'nn_p_time',\n",
    "    'ef_time',\n",
    " ]"
   ]
  },
  {
   "cell_type": "code",
   "execution_count": 49,
   "metadata": {
    "id": "GaLZjrPwxQst"
   },
   "outputs": [],
   "source": [
    "result_df = compute_siplib_gaps(result_df, siplib_opt_sol_dict)"
   ]
  },
  {
   "cell_type": "code",
   "execution_count": 50,
   "metadata": {
    "id": "vZFO2DKNicEb"
   },
   "outputs": [],
   "source": [
    "sslp_siplib_df = get_siplib_df(result_df, siplib_metrics)"
   ]
  },
  {
   "cell_type": "code",
   "execution_count": 51,
   "metadata": {
    "colab": {
     "base_uri": "https://localhost:8080/"
    },
    "id": "VMMP9SICkWmf",
    "outputId": "af13f4e6-14bd-4012-eb55-9235334e7434"
   },
   "outputs": [
    {
     "name": "stdout",
     "output_type": "stream",
     "text": [
      "\\begin{table*}[t]\\centering\\resizebox{\\textwidth}{!}{\n",
      "\\begin{tabular}{l|lll|lll}\n",
      "\\toprule\n",
      "Problem & \\multicolumn{3}{c}{Gap to Optimal} & \\multicolumn{3}{c}{Solving Time} \\\\\n",
      "\\cmidrule{2-7}\n",
      " & NN-E & NN-P & EF & NN-E\\  & NN-P\\  & EF\\  \\\\\n",
      "\\midrule\n",
      "SSLP\\_10\\_50\\_50 & \\textbf{0.00} & 4.05 & \\textbf{0.00} & \\textbf{0.49} & 19.30 & 10,800.02 \\\\\n",
      "SSLP\\_10\\_50\\_100 & \\textbf{0.00} & 4.24 & \\textbf{0.00} & \\textbf{0.51} & 34.43 & 10,800.04 \\\\\n",
      "SSLP\\_10\\_50\\_500 & \\textbf{0.00} & 4.19 & 0.00 & \\textbf{0.58} & 799.69 & 10,800.14 \\\\\n",
      "SSLP\\_10\\_50\\_1000 & \\textbf{0.00} & \\textbf{0.00} & 28.64 & \\textbf{0.55} & 10,857.87 & 10,800.12 \\\\\n",
      "SSLP\\_10\\_50\\_2000 & \\textbf{0.00} & 10.49 & 51.24 & \\textbf{0.67} & 14,436.75 & 10,800.21 \\\\\n",
      "SSLP\\_15\\_45\\_5 & 1.22 & \\textbf{0.00} & \\textbf{0.00} & \\textbf{0.26} & 25.24 & 3.62 \\\\\n",
      "SSLP\\_15\\_45\\_10 & 0.46 & 0.58 & \\textbf{0.00} & \\textbf{0.26} & 49.06 & 3.67 \\\\\n",
      "SSLP\\_15\\_45\\_15 & 0.79 & 0.16 & \\textbf{0.00} & \\textbf{0.25} & 76.58 & 4.80 \\\\\n",
      "SSLP\\_5\\_25\\_50 & \\textbf{0.00} & \\textbf{0.00} & \\textbf{0.00} & \\textbf{0.44} & 2.60 & 2.30 \\\\\n",
      "SSLP\\_5\\_25\\_100 & \\textbf{0.00} & \\textbf{0.00} & \\textbf{0.00} & \\textbf{0.43} & 7.39 & 8.72 \\\\\n",
      "\\bottomrule\n",
      "\\end{tabular}}\n",
      "\\caption{SSLP SIPLib gap and time compairison among methods. Optimal SIPLib instances values obtained from \\cite{ahmed2015siplib}.  All times in seconds.}\n",
      "\\label{tab:res_siplib}\n",
      "\\end{table*}\n",
      "\n"
     ]
    }
   ],
   "source": [
    "latex_sslp_siplib(sslp_siplib_df)"
   ]
  }
 ],
 "metadata": {
  "colab": {
   "collapsed_sections": [
    "5lue4pQCk1Iy",
    "shxC_Ek1lOHw",
    "SVn-9mgYlefJ"
   ],
   "provenance": []
  },
  "kernelspec": {
   "display_name": "Python 3 (ipykernel)",
   "language": "python",
   "name": "python3"
  },
  "language_info": {
   "codemirror_mode": {
    "name": "ipython",
    "version": 3
   },
   "file_extension": ".py",
   "mimetype": "text/x-python",
   "name": "python",
   "nbconvert_exporter": "python",
   "pygments_lexer": "ipython3",
   "version": "3.10.6"
  }
 },
 "nbformat": 4,
 "nbformat_minor": 1
}
